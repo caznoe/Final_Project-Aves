{
 "cells": [
  {
   "cell_type": "code",
   "execution_count": 7,
   "metadata": {},
   "outputs": [],
   "source": [
    "# Import the requests library and json.\n",
    "import requests\n",
    "import json\n",
    "\n",
    "# Import the ebirds API key and email.\n",
    "from config import epa_api_key\n"
   ]
  },
  {
   "cell_type": "code",
   "execution_count": 13,
   "metadata": {},
   "outputs": [],
   "source": [
    "# Create URL for EPA API call for 01/01/2009 for California (state code 06)\n",
    "url = \"https://aqs.epa.gov/data/api/dailyData/byState?email=catie.aznoe@gmail.com&key=\" + epa_api_key + \"&param=45201&bdate=20090101&edate=20090102&state=06\"\n"
   ]
  },
  {
   "cell_type": "code",
   "execution_count": null,
   "metadata": {},
   "outputs": [],
   "source": []
  }
 ],
 "metadata": {
  "kernelspec": {
   "display_name": "Python 3",
   "language": "python",
   "name": "python3"
  },
  "language_info": {
   "codemirror_mode": {
    "name": "ipython",
    "version": 3
   },
   "file_extension": ".py",
   "mimetype": "text/x-python",
   "name": "python",
   "nbconvert_exporter": "python",
   "pygments_lexer": "ipython3",
   "version": "3.7.6"
  }
 },
 "nbformat": 4,
 "nbformat_minor": 4
}
