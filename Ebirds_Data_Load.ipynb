{
 "cells": [
  {
   "cell_type": "code",
   "execution_count": null,
   "metadata": {},
   "outputs": [],
   "source": [
    "# Install ebird-api from https://pypi.org/project/ebird-api/\n",
    "pip install ebird-api"
   ]
  },
  {
   "cell_type": "code",
   "execution_count": 1,
   "metadata": {},
   "outputs": [],
   "source": [
    "# Import the requests library and json.\n",
    "import requests\n",
    "import json\n",
    "\n",
    "# Import the ebirds API key.\n",
    "from config import ebirds_api_key\n",
    "\n"
   ]
  },
  {
   "cell_type": "code",
   "execution_count": 2,
   "metadata": {},
   "outputs": [],
   "source": [
    "# Get_observations from ebird.api\n",
    "from ebird.api import get_observations, get_taxonomy, get_taxonomy_forms, get_taxonomy_versions"
   ]
  },
  {
   "cell_type": "code",
   "execution_count": 4,
   "metadata": {},
   "outputs": [],
   "source": [
    "# Get observations from California for the past week.\n",
    "records = get_observations(ebirds_api_key, 'US-CA')"
   ]
  },
  {
   "cell_type": "code",
   "execution_count": 5,
   "metadata": {
    "scrolled": true
   },
   "outputs": [
    {
     "name": "stdout",
     "output_type": "stream",
     "text": [
      "{'speciesCode': 'brnowl', 'comName': 'Barn Owl', 'sciName': 'Tyto alba', 'locId': 'L4828238', 'locName': 'Long Beach Residence', 'obsDt': '2020-10-04 01:45', 'howMany': 1, 'lat': 33.8203275, 'lng': -118.0762911, 'obsValid': True, 'obsReviewed': False, 'locationPrivate': True, 'subId': 'S74393347'}\n"
     ]
    }
   ],
   "source": [
    "# Check first entry\n",
    "print(records[0])"
   ]
  },
  {
   "cell_type": "code",
   "execution_count": 6,
   "metadata": {},
   "outputs": [
    {
     "data": {
      "text/plain": [
       "585"
      ]
     },
     "execution_count": 6,
     "metadata": {},
     "output_type": "execute_result"
    }
   ],
   "source": [
    "# Check number of records\n",
    "len(records)"
   ]
  },
  {
   "cell_type": "code",
   "execution_count": null,
   "metadata": {},
   "outputs": [],
   "source": []
  }
 ],
 "metadata": {
  "kernelspec": {
   "display_name": "Python 3",
   "language": "python",
   "name": "python3"
  },
  "language_info": {
   "codemirror_mode": {
    "name": "ipython",
    "version": 3
   },
   "file_extension": ".py",
   "mimetype": "text/x-python",
   "name": "python",
   "nbconvert_exporter": "python",
   "pygments_lexer": "ipython3",
   "version": "3.7.6"
  }
 },
 "nbformat": 4,
 "nbformat_minor": 4
}
