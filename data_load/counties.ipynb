{
 "cells": [
  {
   "cell_type": "code",
   "execution_count": 3,
   "metadata": {},
   "outputs": [],
   "source": [
    "import pandas as pd\n",
    "from pathlib import Path"
   ]
  },
  {
   "cell_type": "code",
   "execution_count": 22,
   "metadata": {},
   "outputs": [],
   "source": [
    "# Create list of county files\n",
    "csv_file_list = [\"counties_1.csv\", \"counties_2.csv\", \"counties_3.csv\", \"counties_4.csv\", \"counties_5.csv\", \"counties_6.csv\", \"counties_7.csv\", \"counties_8.csv\", \"counties_9.csv\", \"counties_10.csv\", \"counties_11.csv\", \"counties_12.csv\", \"counties_13.csv\", \"counties_14.csv\", \"counties_15.csv\"]"
   ]
  },
  {
   "cell_type": "code",
   "execution_count": 23,
   "metadata": {},
   "outputs": [],
   "source": [
    "# Create path for CSVs\n",
    "data_folder = Path(\"./Resources/\")"
   ]
  },
  {
   "cell_type": "code",
   "execution_count": 24,
   "metadata": {},
   "outputs": [
    {
     "name": "stdout",
     "output_type": "stream",
     "text": [
      "       latitude  longitude  county_name\n",
      "0       33.8283   -118.343  Los Angeles\n",
      "1       33.7707   -118.327  Los Angeles\n",
      "2       33.2599   -116.361    San Diego\n",
      "3       36.7739   -121.602     Monterey\n",
      "4       33.1386   -116.388    San Diego\n",
      "...         ...        ...          ...\n",
      "40111   33.0483   -117.227    San Diego\n",
      "40112   34.3009   -118.582  Los Angeles\n",
      "40113   32.7772   -117.008    San Diego\n",
      "40114   37.4383   -121.928  Santa Clara\n",
      "40115   37.4524   -122.190    San Mateo\n",
      "\n",
      "[177116 rows x 3 columns]\n"
     ]
    }
   ],
   "source": [
    "# Create dataframes from CSV list and merge into dataframe using concat.\n",
    "list_of_dataframes = []\n",
    "for filename in csv_file_list:\n",
    "    list_of_dataframes.append(pd.read_csv(data_folder/(filename), sep=','))\n",
    "\n",
    "counties_df = pd.concat(list_of_dataframes)\n",
    "\n",
    "print(counties_df)"
   ]
  },
  {
   "cell_type": "code",
   "execution_count": 25,
   "metadata": {},
   "outputs": [
    {
     "data": {
      "text/html": [
       "<div>\n",
       "<style scoped>\n",
       "    .dataframe tbody tr th:only-of-type {\n",
       "        vertical-align: middle;\n",
       "    }\n",
       "\n",
       "    .dataframe tbody tr th {\n",
       "        vertical-align: top;\n",
       "    }\n",
       "\n",
       "    .dataframe thead th {\n",
       "        text-align: right;\n",
       "    }\n",
       "</style>\n",
       "<table border=\"1\" class=\"dataframe\">\n",
       "  <thead>\n",
       "    <tr style=\"text-align: right;\">\n",
       "      <th></th>\n",
       "      <th>latitude</th>\n",
       "      <th>longitude</th>\n",
       "      <th>county_name</th>\n",
       "    </tr>\n",
       "  </thead>\n",
       "  <tbody>\n",
       "    <tr>\n",
       "      <th>0</th>\n",
       "      <td>33.8283</td>\n",
       "      <td>-118.343</td>\n",
       "      <td>Los Angeles</td>\n",
       "    </tr>\n",
       "    <tr>\n",
       "      <th>1</th>\n",
       "      <td>33.7707</td>\n",
       "      <td>-118.327</td>\n",
       "      <td>Los Angeles</td>\n",
       "    </tr>\n",
       "    <tr>\n",
       "      <th>2</th>\n",
       "      <td>33.2599</td>\n",
       "      <td>-116.361</td>\n",
       "      <td>San Diego</td>\n",
       "    </tr>\n",
       "    <tr>\n",
       "      <th>3</th>\n",
       "      <td>36.7739</td>\n",
       "      <td>-121.602</td>\n",
       "      <td>Monterey</td>\n",
       "    </tr>\n",
       "    <tr>\n",
       "      <th>4</th>\n",
       "      <td>33.1386</td>\n",
       "      <td>-116.388</td>\n",
       "      <td>San Diego</td>\n",
       "    </tr>\n",
       "    <tr>\n",
       "      <th>...</th>\n",
       "      <td>...</td>\n",
       "      <td>...</td>\n",
       "      <td>...</td>\n",
       "    </tr>\n",
       "    <tr>\n",
       "      <th>40111</th>\n",
       "      <td>33.0483</td>\n",
       "      <td>-117.227</td>\n",
       "      <td>San Diego</td>\n",
       "    </tr>\n",
       "    <tr>\n",
       "      <th>40112</th>\n",
       "      <td>34.3009</td>\n",
       "      <td>-118.582</td>\n",
       "      <td>Los Angeles</td>\n",
       "    </tr>\n",
       "    <tr>\n",
       "      <th>40113</th>\n",
       "      <td>32.7772</td>\n",
       "      <td>-117.008</td>\n",
       "      <td>San Diego</td>\n",
       "    </tr>\n",
       "    <tr>\n",
       "      <th>40114</th>\n",
       "      <td>37.4383</td>\n",
       "      <td>-121.928</td>\n",
       "      <td>Santa Clara</td>\n",
       "    </tr>\n",
       "    <tr>\n",
       "      <th>40115</th>\n",
       "      <td>37.4524</td>\n",
       "      <td>-122.190</td>\n",
       "      <td>San Mateo</td>\n",
       "    </tr>\n",
       "  </tbody>\n",
       "</table>\n",
       "<p>93884 rows × 3 columns</p>\n",
       "</div>"
      ],
      "text/plain": [
       "       latitude  longitude  county_name\n",
       "0       33.8283   -118.343  Los Angeles\n",
       "1       33.7707   -118.327  Los Angeles\n",
       "2       33.2599   -116.361    San Diego\n",
       "3       36.7739   -121.602     Monterey\n",
       "4       33.1386   -116.388    San Diego\n",
       "...         ...        ...          ...\n",
       "40111   33.0483   -117.227    San Diego\n",
       "40112   34.3009   -118.582  Los Angeles\n",
       "40113   32.7772   -117.008    San Diego\n",
       "40114   37.4383   -121.928  Santa Clara\n",
       "40115   37.4524   -122.190    San Mateo\n",
       "\n",
       "[93884 rows x 3 columns]"
      ]
     },
     "execution_count": 25,
     "metadata": {},
     "output_type": "execute_result"
    }
   ],
   "source": [
    "# Drop duplicates\n",
    "counties_final_df = counties_df.drop_duplicates()\n",
    "counties_final_df"
   ]
  },
  {
   "cell_type": "code",
   "execution_count": 26,
   "metadata": {},
   "outputs": [],
   "source": [
    "# Export county dataframe to csv\n",
    "counties_final_df.to_csv(r'counties_final.csv', index = False)"
   ]
  },
  {
   "cell_type": "code",
   "execution_count": null,
   "metadata": {},
   "outputs": [],
   "source": []
  }
 ],
 "metadata": {
  "kernelspec": {
   "display_name": "Python 3",
   "language": "python",
   "name": "python3"
  },
  "language_info": {
   "codemirror_mode": {
    "name": "ipython",
    "version": 3
   },
   "file_extension": ".py",
   "mimetype": "text/x-python",
   "name": "python",
   "nbconvert_exporter": "python",
   "pygments_lexer": "ipython3",
   "version": "3.7.6"
  }
 },
 "nbformat": 4,
 "nbformat_minor": 4
}
